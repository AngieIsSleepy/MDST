{
  "cells": [
    {
      "cell_type": "markdown",
      "metadata": {
        "id": "aMGsEUWF64GI"
      },
      "source": [
        "#**Importing Libraries**\n"
      ]
    },
    {
      "cell_type": "markdown",
      "metadata": {
        "id": "ELnGuXQeFUCu"
      },
      "source": [
        "\n",
        "**Import the json, pandas, numpy and spotipy libraries**"
      ]
    },
    {
      "cell_type": "code",
      "execution_count": 12,
      "metadata": {
        "id": "aL4rUcafymaN"
      },
      "outputs": [],
      "source": [
        "import json\n",
        "import pandas as pd\n",
        "import numpy as np\n"
      ]
    },
    {
      "cell_type": "markdown",
      "metadata": {
        "id": "vCVcwAbDHu4l"
      },
      "source": [
        "#**Variables, numbers, math and strings**"
      ]
    },
    {
      "cell_type": "markdown",
      "metadata": {
        "id": "jRqIj5o-H2_I"
      },
      "source": [
        "\n",
        "\n",
        "\n",
        "\n",
        "```\n",
        "flourBrandA = \"king arthur all purpose flour\"\n",
        "flourBrandB = \"kroger all purpose flour\"\n",
        "flourAmountNeeded = 0.75\n",
        "\n",
        "print(flourBrandA, flourBrandB)\n",
        "print(\"flour left:\")\n",
        "print(1-flourAmountNeeded)\n",
        "\n",
        "```\n"
      ]
    },
    {
      "cell_type": "markdown",
      "metadata": {
        "id": "FqGGojR-HL4m"
      },
      "source": [
        "What is the output of the code above?"
      ]
    },
    {
      "cell_type": "markdown",
      "metadata": {
        "id": "QUzVxtvWHPjZ"
      },
      "source": [
        "Answer: \n",
        "\n",
        "king arthur all purpose flour kroger all purpose flour\n",
        "\n",
        "\n",
        "flour left: \n",
        "\n",
        "\n",
        "0.25"
      ]
    },
    {
      "cell_type": "markdown",
      "metadata": {
        "id": "Fm915uqsLqPO"
      },
      "source": [
        "#**Functions**\n",
        "\n"
      ]
    },
    {
      "cell_type": "markdown",
      "metadata": {
        "id": "0tzQZ7APFuog"
      },
      "source": [
        "What will be the output of the cell below?"
      ]
    },
    {
      "cell_type": "code",
      "execution_count": 4,
      "metadata": {
        "id": "k3qWFNMSQIIJ"
      },
      "outputs": [
        {
          "name": "stdout",
          "output_type": "stream",
          "text": [
            "bananasrunsfast\n",
            "That is very cool\n"
          ]
        }
      ],
      "source": [
        "def madlibs(adj, noun, verb):\n",
        "  print(noun+verb+adj)\n",
        "  print(\"That is very cool\")\n",
        "\n",
        "madlibs(\"fast\",\"bananas\", \"runs\")\n"
      ]
    },
    {
      "cell_type": "markdown",
      "metadata": {
        "id": "eQxvo8WDF9cp"
      },
      "source": [
        "Answer:\n",
        "\n",
        "bananasrunsfast\n",
        "\n",
        "That is very cool"
      ]
    },
    {
      "cell_type": "markdown",
      "metadata": {
        "id": "ZafX5NtdGjJy"
      },
      "source": [
        "\n",
        "\n",
        "```\n",
        "def subtraction(number1, number2)\n",
        "  return number1-number2\n",
        "\n",
        "x = subtraction(2, 4)\n",
        "```\n",
        "\n",
        "What is the value of x?\n",
        "\n",
        "\n"
      ]
    },
    {
      "cell_type": "markdown",
      "metadata": {
        "id": "E1CIPvj2G7pR"
      },
      "source": [
        "Answer:\n",
        "\n",
        "-2"
      ]
    },
    {
      "cell_type": "markdown",
      "metadata": {
        "id": "mnAVmpYoJXm2"
      },
      "source": [
        "#**Lists, Dictionaries, Sets, Indexing**\n",
        "\n",
        "\n",
        "What is the value of aList[3]?"
      ]
    },
    {
      "cell_type": "code",
      "execution_count": 7,
      "metadata": {
        "id": "7FYPE2YCIWUi"
      },
      "outputs": [
        {
          "name": "stdout",
          "output_type": "stream",
          "text": [
            "[1, 5]\n"
          ]
        }
      ],
      "source": [
        "aList = [\"mdst\"]\n",
        "aList.append(\"sundays\")\n",
        "aList.append(\"mondays\")\n",
        "aList.append(\"tuesdays\")\n",
        "aList.append(\"wednesdays\")\n",
        "aList[3] = \"wednesdays\""
      ]
    },
    {
      "cell_type": "markdown",
      "metadata": {
        "id": "ZDmXxPPJIXVK"
      },
      "source": [
        "Answer:\n",
        "\n",
        "wednesdays\n"
      ]
    },
    {
      "cell_type": "markdown",
      "metadata": {
        "id": "JqoBQjw9L6hv"
      },
      "source": [
        "#**References**"
      ]
    },
    {
      "cell_type": "markdown",
      "metadata": {
        "id": "QoUJMdPqKIv9"
      },
      "source": [
        "What do you think the output is in the code below?\n",
        "\n",
        "\n",
        "```\n",
        "x=[3,4]\n",
        "y=[1,2]\n",
        "x=y\n",
        "y[1] = 5\n",
        "print(x)\n",
        "```\n",
        "\n"
      ]
    },
    {
      "cell_type": "markdown",
      "metadata": {
        "id": "BKTykb0HKnmY"
      },
      "source": [
        "Answer:\n",
        "[1,5]\n",
        "\n",
        "**Once you have your answer** go to pythontutor.com, paste the code, and see how references influence the output"
      ]
    },
    {
      "cell_type": "markdown",
      "metadata": {
        "id": "7bt6A0e-5k6L"
      },
      "source": [
        "# **Keywords**\n",
        "What happens if you try to create a variable with the name of a keyword?"
      ]
    },
    {
      "cell_type": "code",
      "execution_count": 10,
      "metadata": {
        "id": "-zM0g8Md8F9j"
      },
      "outputs": [
        {
          "ename": "SyntaxError",
          "evalue": "cannot assign to True (3574266298.py, line 1)",
          "output_type": "error",
          "traceback": [
            "\u001b[0;36m  Cell \u001b[0;32mIn[10], line 1\u001b[0;36m\u001b[0m\n\u001b[0;31m    True = 1\u001b[0m\n\u001b[0m    ^\u001b[0m\n\u001b[0;31mSyntaxError\u001b[0m\u001b[0;31m:\u001b[0m cannot assign to True\n"
          ]
        }
      ],
      "source": [
        "True = 1\n",
        "\n",
        "# syntax error: cannot assign to True\n"
      ]
    },
    {
      "cell_type": "markdown",
      "metadata": {
        "id": "REHTyAbD5YmV"
      },
      "source": [
        "# **If else if else**\n",
        "\n",
        "You are given a variable *age* with some unknown value. Use if statements to print if a person can drive given some unknown age (aka use the age variable in your code)\n"
      ]
    },
    {
      "cell_type": "code",
      "execution_count": 17,
      "metadata": {
        "id": "xSmw1V_s8lyU"
      },
      "outputs": [
        {
          "ename": "SyntaxError",
          "evalue": "invalid syntax (328899403.py, line 1)",
          "output_type": "error",
          "traceback": [
            "\u001b[0;36m  Cell \u001b[0;32mIn[17], line 1\u001b[0;36m\u001b[0m\n\u001b[0;31m    age = #unknown\u001b[0m\n\u001b[0m          ^\u001b[0m\n\u001b[0;31mSyntaxError\u001b[0m\u001b[0;31m:\u001b[0m invalid syntax\n"
          ]
        }
      ],
      "source": [
        "if age >= 16:\n",
        "    print(\"you can drive\")\n",
        "else:\n",
        "    print(\"you cannot drive\")"
      ]
    },
    {
      "cell_type": "markdown",
      "metadata": {
        "id": "LzuQZTVlMLKU"
      },
      "source": [
        "#**Loops**"
      ]
    },
    {
      "cell_type": "markdown",
      "metadata": {
        "id": "GfRW3k093Lyh"
      },
      "source": [
        "Write a for loop that prints a statement \"____ is a type of fruit\" where ____ is an element in the list defined below. Code a solution 3 lines or less\n",
        "\n",
        "\n",
        "\n",
        "```\n",
        "fruits = [\"kiwis\", \"star fruit\", \"raspberries\", \"watermelon\", \"pear\", \"apples\", \"oranges\"]\n",
        "```\n",
        "\n"
      ]
    },
    {
      "cell_type": "code",
      "execution_count": 18,
      "metadata": {},
      "outputs": [
        {
          "name": "stdout",
          "output_type": "stream",
          "text": [
            "kiwis is a type of fruit\n",
            "star fruit is a type of fruit\n",
            "raspberries is a type of fruit\n",
            "watermelon is a type of fruit\n",
            "pear is a type of fruit\n",
            "apples is a type of fruit\n",
            "oranges is a type of fruit\n"
          ]
        }
      ],
      "source": [
        "fruits = [\"kiwis\", \"star fruit\", \"raspberries\", \"watermelon\", \"pear\", \"apples\", \"oranges\"]\n",
        "for fruit in fruits:\n",
        "    print(fruit + \" is a type of fruit\")"
      ]
    },
    {
      "cell_type": "markdown",
      "metadata": {
        "id": "1c_emQJq4hSZ"
      },
      "source": [
        "Write a while loop that increments variable i with an initial value of 9 by 1 each iteration of the loop. Have the loop break when the value of variable i reaches 16. Print a statement that alerts you that i has reached 16. hint: in the while loop, should the print statment be used before the keyword \"break\" or after? What happens when you print before vs after?"
      ]
    },
    {
      "cell_type": "code",
      "execution_count": 22,
      "metadata": {
        "id": "MNYSZEeIQGWB"
      },
      "outputs": [
        {
          "name": "stdout",
          "output_type": "stream",
          "text": [
            "you reached 16\n"
          ]
        }
      ],
      "source": [
        "i = 9\n",
        "while i < 16:\n",
        "    i +=1\n",
        "    if i == 16:\n",
        "        print(\"you reached 16\")\n",
        "        break\n"
      ]
    },
    {
      "cell_type": "markdown",
      "metadata": {
        "id": "wKJq-0ixM0t3"
      },
      "source": [
        "#**Using Libaries and reading documentation practice**"
      ]
    },
    {
      "cell_type": "markdown",
      "metadata": {
        "id": "VBqXHun09DjF"
      },
      "source": [
        "Look up functions in the json library that you can use to read and write to a .json file. What arguments are required for the functions? Are there optional arguments?"
      ]
    },
    {
      "cell_type": "markdown",
      "metadata": {
        "id": "P8vi_q8c9VIP"
      },
      "source": [
        "Your solution:\n",
        "\n",
        "to read:  \n",
        "\n",
        "json.load(a string) \n",
        "    \n",
        "    optional arguments:\n",
        "    \n",
        "    fp: SupportsRead[str | bytes],\n",
        "    *,\n",
        "    cls: type[JSONDecoder] | None = None,\n",
        "    object_hook: ((dict[Any, Any]) -> Any) | None = None,\n",
        "    parse_float: ((str) -> Any) | None = None,\n",
        "    parse_int: ((str) -> Any) | None = None,\n",
        "    parse_constant: ((str) -> Any) | None = None,\n",
        "    object_pairs_hook: ((list[tuple[Any, Any]]) -> Any) | None = None,\n",
        "    **kwds: Any\n",
        "\n",
        "to write:\n",
        "\n",
        "json.dump(object)\n",
        "    \n",
        "    optional arguments:\n",
        "    \n",
        "    obj: Any,\n",
        "    fp: SupportsWrite[str],*,\n",
        "    skipkeys: bool = False,\n",
        "    ensure_ascii: bool = True,\n",
        "    check_circular: bool = True,\n",
        "    allow_nan: bool = True,\n",
        "    cls: type[JSONEncoder] | None = None,\n",
        "    indent: int | str | None = None,\n",
        "    separators: tuple[str, str] | None = None,\n",
        "    default: ((Any) -> Any) | None = None,\n",
        "    sort_keys: bool = False,\n",
        "    **kwds: Any\n"
      ]
    },
    {
      "cell_type": "markdown",
      "metadata": {
        "id": "wfKile7wMASA"
      },
      "source": [
        "#**Reading and writing to files**\n"
      ]
    },
    {
      "cell_type": "markdown",
      "metadata": {
        "id": "0baa_rdtsJ2l"
      },
      "source": [
        "Download the file workSessionOne.json from github.com/and read it into a pandas dataframe named dfDemo"
      ]
    },
    {
      "cell_type": "code",
      "execution_count": 31,
      "metadata": {
        "id": "IPV1hC66QEvv"
      },
      "outputs": [],
      "source": [
        "dfDemo = pd.read_json('workSessionOne.json')"
      ]
    },
    {
      "cell_type": "markdown",
      "metadata": {
        "id": "Tvp7Xk0nOqlO"
      },
      "source": [
        "#**Commenting**\n",
        "\n",
        "Sometimes you want to write things for yourself or other people reading your code, such as explainations, or reminders to continue writing code for a dunction\n",
        "\n",
        "You can leave a note for youself in two ways:\n",
        "\n",
        "- #: used for when the note is short (less than 80 characters)\n",
        "- \"\"\"some note\"\"\" or three double quotes: used for when the note will be multiple lines long\n",
        "**Write one note using # and another using the triple quotes**\n",
        "\n",
        "(if you run the cell with just the note, the cell should not have any output)"
      ]
    },
    {
      "cell_type": "code",
      "execution_count": 36,
      "metadata": {
        "id": "hpm_J5aJQDkN"
      },
      "outputs": [
        {
          "data": {
            "text/plain": [
              "'\\nToday\\nIs\\nSunday\\n'"
            ]
          },
          "execution_count": 36,
          "metadata": {},
          "output_type": "execute_result"
        }
      ],
      "source": [
        "# Today is Sunday\n",
        "\n",
        "\"\"\"\n",
        "Today\n",
        "Is\n",
        "Sunday\n",
        "\"\"\""
      ]
    },
    {
      "cell_type": "markdown",
      "metadata": {
        "id": "s_hp_TqY7K1U"
      },
      "source": [
        "# **Debug Exercise**"
      ]
    },
    {
      "cell_type": "markdown",
      "metadata": {
        "id": "GJSWwpI3NDqP"
      },
      "source": [
        "Resources you can go back to:\n",
        "- pythontutor.com\n",
        "- w3schools.com/python/"
      ]
    }
  ],
  "metadata": {
    "colab": {
      "provenance": []
    },
    "kernelspec": {
      "display_name": "Python 3",
      "name": "python3"
    },
    "language_info": {
      "codemirror_mode": {
        "name": "ipython",
        "version": 3
      },
      "file_extension": ".py",
      "mimetype": "text/x-python",
      "name": "python",
      "nbconvert_exporter": "python",
      "pygments_lexer": "ipython3",
      "version": "3.10.12"
    }
  },
  "nbformat": 4,
  "nbformat_minor": 0
}
