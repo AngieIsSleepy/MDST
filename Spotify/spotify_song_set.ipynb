{
 "cells": [
  {
   "cell_type": "code",
   "execution_count": 2,
   "metadata": {},
   "outputs": [
    {
     "name": "stderr",
     "output_type": "stream",
     "text": [
      "/home/anqidai/.local/lib/python3.10/site-packages/matplotlib/projections/__init__.py:63: UserWarning: Unable to import Axes3D. This may be due to multiple versions of Matplotlib being installed (e.g. as a system package and as a pip package). As a result, the 3D projection is not available.\n",
      "  warnings.warn(\"Unable to import Axes3D. This may be due to multiple versions of \"\n"
     ]
    }
   ],
   "source": [
    "import json\n",
    "import pandas as pd\n",
    "import numpy as np\n",
    "import spotify\n",
    "import spotipy\n",
    "import time\n",
    "import seaborn as sns\n",
    "from spotipy.oauth2 import SpotifyClientCredentials"
   ]
  },
  {
   "cell_type": "code",
   "execution_count": 3,
   "metadata": {},
   "outputs": [],
   "source": [
    "df1 = pd.read_json('StreamingHistory_music_0.json')\n",
    "df2 = pd.read_json('StreamingHistory_podcast_0.json')\n",
    "df = pd.concat([df1,df2], ignore_index=True)\n",
    "client_id = 'afe88fb83c6144d8b3fce6547373bb96'\n",
    "client_secret = '8efd0a8ad69349dc8aa3361e737a4f9e'\n",
    "client_credentials_manager = SpotifyClientCredentials(client_id=client_id, client_secret=client_secret)\n",
    "sp = spotipy.Spotify(client_credentials_manager=client_credentials_manager)\n",
    "\n"
   ]
  },
  {
   "cell_type": "code",
   "execution_count": 8,
   "metadata": {},
   "outputs": [],
   "source": [
    "uniq_song = set(zip(df['trackName'], df['artistName']))\n",
    "\n",
    "# Export unique song-artist pairs to a text file\n",
    "with open('unique_songs_artists.txt', 'w') as file:\n",
    "    for track, artist in uniq_song:\n",
    "        file.write(f\"{track} - {artist}\\n\")"
   ]
  }
 ],
 "metadata": {
  "kernelspec": {
   "display_name": "Python 3",
   "language": "python",
   "name": "python3"
  },
  "language_info": {
   "codemirror_mode": {
    "name": "ipython",
    "version": 3
   },
   "file_extension": ".py",
   "mimetype": "text/x-python",
   "name": "python",
   "nbconvert_exporter": "python",
   "pygments_lexer": "ipython3",
   "version": "3.10.12"
  }
 },
 "nbformat": 4,
 "nbformat_minor": 2
}
